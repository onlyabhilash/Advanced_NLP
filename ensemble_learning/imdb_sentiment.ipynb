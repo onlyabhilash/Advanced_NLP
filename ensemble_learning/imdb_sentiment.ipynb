{
  "metadata": {
    "language_info": {
      "codemirror_mode": {
        "name": "ipython",
        "version": 3
      },
      "file_extension": ".py",
      "mimetype": "text/x-python",
      "name": "python",
      "nbconvert_exporter": "python",
      "pygments_lexer": "ipython3",
      "version": "3.7.7-final"
    },
    "orig_nbformat": 2,
    "kernelspec": {
      "name": "python_defaultSpec_1596649892401",
      "display_name": "Python 3.7.7 64-bit ('lang': conda)"
    },
    "colab": {
      "provenance": [],
      "include_colab_link": true
    }
  },
  "nbformat": 4,
  "nbformat_minor": 0,
  "cells": [
    {
      "cell_type": "markdown",
      "metadata": {
        "id": "view-in-github",
        "colab_type": "text"
      },
      "source": [
        "<a href=\"https://colab.research.google.com/github/onlyabhilash/Advanced_NLP/blob/main/ensemble_learning/imdb_sentiment.ipynb\" target=\"_parent\"><img src=\"https://colab.research.google.com/assets/colab-badge.svg\" alt=\"Open In Colab\"/></a>"
      ]
    },
    {
      "cell_type": "code",
      "execution_count": null,
      "metadata": {
        "tags": [],
        "id": "Haf6ZvGBro5Y"
      },
      "outputs": [],
      "source": [
        "import numpy as np\n",
        "from scipy.stats import mode\n",
        "\n",
        "from sklearn.feature_extraction.text import TfidfVectorizer\n",
        "from sklearn.pipeline import Pipeline\n",
        "\n",
        "from sklearn.neighbors import KNeighborsClassifier\n",
        "from sklearn.tree import DecisionTreeClassifier\n",
        "from sklearn.linear_model import LogisticRegression\n",
        "\n",
        "from sklearn.ensemble import AdaBoostClassifier, RandomForestClassifier\n",
        "\n",
        "from keras.datasets import imdb"
      ]
    },
    {
      "cell_type": "code",
      "execution_count": null,
      "metadata": {
        "tags": [],
        "id": "Z6f5LdWqro5f"
      },
      "outputs": [],
      "source": [
        "word_to_index = imdb.get_word_index()\n",
        "index_to_word = [None] * (max(word_to_index.values()) + 1)\n",
        "for w, i in word_to_index.items():\n",
        "    index_to_word[i] = w"
      ]
    },
    {
      "cell_type": "code",
      "execution_count": null,
      "metadata": {
        "tags": [],
        "id": "zubxdK6xro5g"
      },
      "outputs": [],
      "source": [
        "(X_train, y_train), (X_test, y_test) = imdb.load_data(num_words=10000)\n",
        "X_train = [\n",
        "    ' '.join(\n",
        "        index_to_word[i]\n",
        "        for i in X_train[i]\n",
        "        if i < len(index_to_word)\n",
        "    ) for i in range(X_train.shape[0])\n",
        "]\n",
        "\n",
        "X_test = [\n",
        "    ' '.join(\n",
        "        index_to_word[i]\n",
        "        for i in X_test[i]\n",
        "        if i < len(index_to_word)\n",
        "    ) for i in range(X_test.shape[0])\n",
        "]"
      ]
    },
    {
      "cell_type": "code",
      "execution_count": null,
      "metadata": {
        "id": "LnGbxr5nro5h"
      },
      "outputs": [],
      "source": [
        "## MAX VOTING via taking the mode of all the predictions\n",
        "model1 = Pipeline([\n",
        "    ('tfidf', TfidfVectorizer(ngram_range=(1,2))),\n",
        "    ('log', LogisticRegression())\n",
        "])\n",
        "model2 = Pipeline([\n",
        "    ('tfidf', TfidfVectorizer(ngram_range=(1,2))),\n",
        "    ('knn', KNeighborsClassifier())\n",
        "])\n",
        "model3 = Pipeline([\n",
        "    ('tfidf', TfidfVectorizer(ngram_range=(1,2))),\n",
        "    ('tree', DecisionTreeClassifier())\n",
        "])\n",
        "\n",
        "model1.fit(X_train,y_train)\n",
        "model2.fit(X_train,y_train)\n",
        "model3.fit(X_train,y_train)\n",
        "\n",
        "pred1=model1.predict(X_test)\n",
        "pred2=model2.predict(X_test)\n",
        "pred3=model3.predict(X_test)\n",
        "\n",
        "final_pred = np.array([])\n",
        "for i in range(0,len(X_test)):\n",
        "    final_pred = np.append(final_pred, mode([pred1[i], pred2[i], pred3[i]]))"
      ]
    },
    {
      "cell_type": "code",
      "execution_count": null,
      "metadata": {
        "id": "8nlnXGp_ro5i"
      },
      "outputs": [],
      "source": [
        "## AVERAGING\n",
        "model1 = Pipeline([\n",
        "    ('tfidf', TfidfVectorizer(ngram_range=(1,2))),\n",
        "    ('log', LogisticRegression())\n",
        "])\n",
        "model2 = Pipeline([\n",
        "    ('tfidf', TfidfVectorizer(ngram_range=(1,2))),\n",
        "    ('knn', KNeighborsClassifier())\n",
        "])\n",
        "model3 = Pipeline([\n",
        "    ('tfidf', TfidfVectorizer(ngram_range=(1,2))),\n",
        "    ('tree', DecisionTreeClassifier())\n",
        "])\n",
        "\n",
        "model1.fit(X_train,y_train)\n",
        "model2.fit(X_train,y_train)\n",
        "model3.fit(X_train,y_train)\n",
        "\n",
        "pred1=model1.predict_proba(X_test)\n",
        "pred2=model2.predict_proba(X_test)\n",
        "pred3=model3.predict_proba(X_test)\n",
        "\n",
        "final_pred = (pred1+pred2+pred3)/3"
      ]
    },
    {
      "cell_type": "code",
      "execution_count": null,
      "metadata": {
        "id": "KeDbb3szro5k",
        "outputId": "045b177f-aca0-4839-fa4a-344b4eaf0e08"
      },
      "outputs": [
        {
          "output_type": "execute_result",
          "data": {
            "text/plain": "0.7994"
          },
          "metadata": {},
          "execution_count": 16
        }
      ],
      "source": [
        "## BAGGING via Random Forests\n",
        "rf_model = Pipeline([\n",
        "    ('tfidf', TfidfVectorizer(ngram_range=(1,2))),\n",
        "    ('rf', RandomForestClassifier(n_estimators=28))\n",
        "])\n",
        "\n",
        "rf_model.fit(X_train, y_train)\n",
        "rf_model.score(X_test,y_test)"
      ]
    },
    {
      "cell_type": "code",
      "execution_count": null,
      "metadata": {
        "id": "QEUA1tN3ro5l",
        "outputId": "8161ecc7-abc6-4eb2-c36b-df4aa4114d99"
      },
      "outputs": [
        {
          "output_type": "execute_result",
          "data": {
            "text/plain": "0.80824"
          },
          "metadata": {},
          "execution_count": 17
        }
      ],
      "source": [
        "## BOOSTING via AdaBoost\n",
        "ada_model = Pipeline([\n",
        "    ('tfidf', TfidfVectorizer(ngram_range=(1,2))),\n",
        "    ('ada', AdaBoostClassifier(random_state=1))\n",
        "])\n",
        "ada_model.fit(X_train, y_train)\n",
        "ada_model.score(X_test,y_test)"
      ]
    },
    {
      "cell_type": "code",
      "execution_count": null,
      "metadata": {
        "id": "ImSLMb_5ro5m"
      },
      "outputs": [],
      "source": []
    }
  ]
}